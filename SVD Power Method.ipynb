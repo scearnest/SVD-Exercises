{
 "cells": [
  {
   "cell_type": "markdown",
   "metadata": {},
   "source": [
    "# Exercise 3.16"
   ]
  },
  {
   "cell_type": "code",
   "execution_count": 104,
   "metadata": {},
   "outputs": [],
   "source": [
    "import numpy as np\n",
    "from numpy.linalg import matrix_power\n",
    "from scipy.linalg import orth\n",
    "\n",
    "def find_fist_singular_vector(a):\n",
    "    B = np.transpose(a)@a\n",
    "    x = np.random.rand(B.shape[0],1)\n",
    "    threshold = 0.002\n",
    "    difference = 1\n",
    "    k=1\n",
    "    new_x=x\n",
    "    while difference > threshold:\n",
    "        new_x = (matrix_power(B,k)@x)\n",
    "        scalar = np.amin(new_x)\n",
    "        scalar = 1/scalar\n",
    "        new_x = scalar*new_x\n",
    "        difference = np.linalg.norm(new_x-x, ord=2)\n",
    "        x = new_x\n",
    "        k = k+1\n",
    "        if(k == 50):\n",
    "            print(\"Had to break\")\n",
    "            break\n",
    "    \n",
    "    return new_x/np.linalg.norm(new_x)\n",
    "\n",
    "def find_singular_vectors(k,a):\n",
    "    B = np.transpose(a)@a\n",
    "    x = np.random.rand(B.shape[0],k)\n",
    "    x = orth(x)\n",
    "    new_x = x\n",
    "    i = 1\n",
    "    difference = 1\n",
    "    threshold = 0.002\n",
    "    while difference > threshold:\n",
    "        new_x = (matrix_power(B,i)@x)\n",
    "        new_x = orth(new_x)\n",
    "        difference = np.linalg.norm(new_x-x,ord=2)\n",
    "        x = new_x\n",
    "        i = i+1\n",
    "        if(i == 100):\n",
    "            print(\"Had to break\")\n",
    "            break\n",
    "    return new_x\n",
    "        \n",
    "    \n"
   ]
  },
  {
   "cell_type": "code",
   "execution_count": 99,
   "metadata": {},
   "outputs": [],
   "source": [
    "A = np.matrix([[1,2,3,4,5,6,7,8,9,10],\n",
    "               [2,3,4,5,6,7,8,9,10,0],\n",
    "               [3,4,5,6,7,8,9,10,0,0],\n",
    "               [4,5,6,7,8,9,10,0,0,0],\n",
    "               [5,6,7,8,9,10,0,0,0,0],\n",
    "               [6,7,8,9,10,0,0,0,0,0],\n",
    "               [7,8,9,10,0,0,0,0,0,0],\n",
    "               [8,9,10,0,0,0,0,0,0,0],\n",
    "               [9,10,0,0,0,0,0,0,0,0],\n",
    "               [10,0,0,0,0,0,0,0,0,0]])"
   ]
  },
  {
   "cell_type": "markdown",
   "metadata": {},
   "source": [
    "# 1)."
   ]
  },
  {
   "cell_type": "code",
   "execution_count": 100,
   "metadata": {},
   "outputs": [
    {
     "name": "stdout",
     "output_type": "stream",
     "text": [
      "[[0.31975061]\n",
      " [0.36962503]\n",
      " [0.39811309]\n",
      " [0.4039189 ]\n",
      " [0.38728043]\n",
      " [0.34995869]\n",
      " [0.29512625]\n",
      " [0.22716237]\n",
      " [0.15136863]\n",
      " [0.07362362]]\n"
     ]
    }
   ],
   "source": [
    "print(find_fist_singular_vector(A))"
   ]
  },
  {
   "cell_type": "markdown",
   "metadata": {},
   "source": [
    "# 2)."
   ]
  },
  {
   "cell_type": "code",
   "execution_count": 105,
   "metadata": {},
   "outputs": [
    {
     "name": "stdout",
     "output_type": "stream",
     "text": [
      "[[-0.3197506   0.45784552 -0.42415456  0.39364456]\n",
      " [-0.36962502  0.3936509  -0.24288284  0.02848698]\n",
      " [-0.39811309  0.25497036  0.07043602 -0.36153369]\n",
      " [-0.4039189   0.06980555  0.33936334 -0.38322689]\n",
      " [-0.38728043 -0.12450888  0.41233765 -0.01439342]\n",
      " [-0.3499587  -0.2887672   0.24775341  0.37382728]\n",
      " [-0.29512626 -0.38972804 -0.06268814  0.39082214]\n",
      " [-0.22716239 -0.40675711 -0.34546459  0.01996826]\n",
      " [-0.15136864 -0.33594883 -0.44265159 -0.36463231]\n",
      " [-0.07362363 -0.19090282 -0.30058613 -0.37498211]]\n"
     ]
    }
   ],
   "source": [
    "print(find_singular_vectors(4,A))"
   ]
  },
  {
   "cell_type": "code",
   "execution_count": null,
   "metadata": {},
   "outputs": [],
   "source": []
  },
  {
   "cell_type": "code",
   "execution_count": null,
   "metadata": {},
   "outputs": [],
   "source": []
  }
 ],
 "metadata": {
  "kernelspec": {
   "display_name": "Python 3",
   "language": "python",
   "name": "python3"
  },
  "language_info": {
   "codemirror_mode": {
    "name": "ipython",
    "version": 3
   },
   "file_extension": ".py",
   "mimetype": "text/x-python",
   "name": "python",
   "nbconvert_exporter": "python",
   "pygments_lexer": "ipython3",
   "version": "3.8.3"
  }
 },
 "nbformat": 4,
 "nbformat_minor": 4
}
